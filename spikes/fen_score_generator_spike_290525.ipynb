{
 "cells": [
  {
   "cell_type": "code",
   "execution_count": null,
   "id": "c6bebed1",
   "metadata": {},
   "outputs": [
    {
     "name": "stderr",
     "output_type": "stream",
     "text": [
      "100%|██████████| 50/50 [01:32<00:00,  1.86s/it]"
     ]
    },
    {
     "name": "stdout",
     "output_type": "stream",
     "text": [
      "Wrote 50 positions to opening_positions.csv\n"
     ]
    },
    {
     "name": "stderr",
     "output_type": "stream",
     "text": [
      "\n"
     ]
    }
   ],
   "source": [
    "\n",
    "import os\n",
    "import csv\n",
    "import chess\n",
    "from stockfish import Stockfish\n",
    "from tqdm import tqdm\n",
    "\n",
    "# Path to your Stockfish binary (make sure STOCKFISH_PATH is set in your env)\n",
    "sf_path = os.environ.get(\"STOCKFISH_PATH\", \"/usr/local/bin/stockfish\")\n",
    "if not os.path.exists(sf_path):\n",
    "    raise FileNotFoundError(f\"Stockfish not found at {sf_path}\")\n",
    "\n",
    "# Initialize Stockfish at a reasonable depth\n",
    "stockfish = Stockfish(path=sf_path, depth=20)\n",
    "\n",
    "# 50 common opening move sequences (SAN) – feel free to swap in your own\n",
    "sequences = [\n",
    "    [\"e4\", \"e5\"], [\"e4\", \"c5\"], [\"e4\", \"e6\"], [\"e4\", \"c6\"], [\"e4\", \"g6\"],\n",
    "    [\"e4\", \"d5\"], [\"e4\", \"Nf6\"], [\"d4\", \"d5\"], [\"d4\", \"Nf6\"], [\"d4\", \"d5\", \"c4\", \"e6\"],\n",
    "    [\"d4\", \"d5\", \"c4\", \"c6\"], [\"d4\", \"Nf6\", \"c4\", \"g6\"], [\"d4\", \"Nf6\", \"c4\", \"e6\"],\n",
    "    [\"d4\", \"f5\"], [\"d4\", \"c5\"], [\"d4\", \"g6\"], [\"c4\", \"e5\"], [\"c4\", \"Nf6\"], [\"c4\", \"e6\"],\n",
    "    [\"c4\", \"c5\"], [\"c4\", \"g6\"], [\"Nf3\", \"d5\"], [\"Nf3\", \"Nf6\"], [\"Nf3\", \"c5\"],\n",
    "    [\"Nf3\", \"g6\"], [\"Nf3\", \"e6\"], [\"Nf3\", \"d6\"], [\"f4\", \"d5\"], [\"f4\", \"e5\"],\n",
    "    [\"f4\", \"c5\"], [\"g3\", \"d5\"], [\"g3\", \"Nf6\"], [\"g3\", \"e5\"], [\"b3\", \"d5\"],\n",
    "    [\"b3\", \"Nf6\"], [\"b3\", \"e5\"], [\"c3\", \"d5\"], [\"c3\", \"e5\"], [\"c3\", \"Nf6\"],\n",
    "    [\"b3\", \"c5\"], [\"Nc3\", \"d5\"], [\"Nc3\", \"Nf6\"], [\"Nc3\", \"c5\"], [\"Nc3\", \"g6\"],\n",
    "    [\"e4\", \"b6\"], [\"e4\", \"a6\"], [\"d4\", \"b6\"], [\"d4\", \"h6\"], [\"e4\", \"h6\"],\n",
    "    [\"c4\", \"h6\"]\n",
    "]\n",
    "\n",
    "# Open CSV for writing\n",
    "with open(\"data/opening_positions.csv\", \"w\", newline=\"\") as f:\n",
    "    writer = csv.writer(f)\n",
    "    writer.writerow([\"FEN\", \"BestMove\", \"Score\"])\n",
    "    for seq in tqdm(sequences):\n",
    "        board = chess.Board()\n",
    "        for move in seq:\n",
    "            board.push_san(move)\n",
    "        fen = board.fen()\n",
    "        stockfish.set_fen_position(fen)\n",
    "        best = stockfish.get_best_move()\n",
    "        ev = stockfish.get_evaluation()\n",
    "        if ev[\"type\"] == \"cp\":\n",
    "            score = round(ev[\"value\"] / 100.0, 2)\n",
    "        else:\n",
    "            score = f\"mate in {ev['value']}\"\n",
    "        writer.writerow([fen, best, score])\n",
    "\n",
    "print(\"Wrote 50 positions to opening_positions.csv\")\n"
   ]
  },
  {
   "cell_type": "code",
   "execution_count": null,
   "id": "f5f433b2",
   "metadata": {},
   "outputs": [],
   "source": []
  }
 ],
 "metadata": {
  "kernelspec": {
   "display_name": "Python (safechess)",
   "language": "python",
   "name": "safechess"
  },
  "language_info": {
   "codemirror_mode": {
    "name": "ipython",
    "version": 3
   },
   "file_extension": ".py",
   "mimetype": "text/x-python",
   "name": "python",
   "nbconvert_exporter": "python",
   "pygments_lexer": "ipython3",
   "version": "3.12.10"
  }
 },
 "nbformat": 4,
 "nbformat_minor": 5
}
