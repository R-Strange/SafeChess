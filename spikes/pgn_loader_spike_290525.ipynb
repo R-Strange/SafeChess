{
 "cells": [
  {
   "cell_type": "markdown",
   "id": "4b679047",
   "metadata": {},
   "source": [
    "# Spike: PGN Streaming Loader\n",
    "\n",
    "In this notebook we’ll confirm that we can **stream** through a large PGN file game-by-game without loading it all into memory, using `python-chess`’s PGN reader."
   ]
  },
  {
   "cell_type": "code",
   "execution_count": 3,
   "id": "436d1e96",
   "metadata": {},
   "outputs": [],
   "source": [
    "import chess.pgn"
   ]
  },
  {
   "cell_type": "code",
   "execution_count": 4,
   "id": "8bb1b583",
   "metadata": {},
   "outputs": [],
   "source": [
    "pgn_path = \"data/example_pgn_1.pgn\""
   ]
  },
  {
   "cell_type": "code",
   "execution_count": 5,
   "id": "13e29ad6",
   "metadata": {},
   "outputs": [
    {
     "name": "stdout",
     "output_type": "stream",
     "text": [
      "[Event \"Let\\\\'s Play!\"]\n",
      "[Site \"Chess.com\"]\n",
      "[Date \"2025.03.25\"]\n",
      "[Round \"?\"]\n",
      "[White \"DebunkedRavioli\"]\n",
      "[Black \"PossiblyNot\"]\n",
      "[Result \"0-1\"]\n",
      "[TimeControl \"1/604800\"]\n",
      "[WhiteElo \"1243\"]\n",
      "[BlackElo \"1437\"]\n",
      "[Termination \"PossiblyNot won by resignation\"]\n",
      "[ECO \"D20\"]\n",
      "[EndDate \"2025.04.21\"]\n",
      "[Link \"https://www.chess.com/game/daily/792707523\"]\n",
      "\n",
      "1. d4 d5 2. c4 dxc4 3. e4 e5 4. dxe5 Qxd1+ 5. Kxd1 Nc6 6. Bxc4 Nxe5 7. Bb3 Nd3 8. Be3 Bd7 9. Kc2 Nb4+ 10. Kd2 O-O-O 11. Bxa7 Bh3+ 12. Ke3 Bxg2 13. a3 Na6 14. Bxf7 Nf6 15. e5 Nd5+ 16. Ke2 b6 17. Be6+ Kb7 0-1\n"
     ]
    }
   ],
   "source": [
    "with open(pgn_path) as f:\n",
    "    game = chess.pgn.read_game(f)\n",
    "    print(game)\n",
    "    "
   ]
  },
  {
   "cell_type": "code",
   "execution_count": null,
   "id": "b685a70c",
   "metadata": {},
   "outputs": [],
   "source": []
  }
 ],
 "metadata": {
  "kernelspec": {
   "display_name": "Python (safechess)",
   "language": "python",
   "name": "safechess"
  },
  "language_info": {
   "codemirror_mode": {
    "name": "ipython",
    "version": 3
   },
   "file_extension": ".py",
   "mimetype": "text/x-python",
   "name": "python",
   "nbconvert_exporter": "python",
   "pygments_lexer": "ipython3",
   "version": "3.12.10"
  }
 },
 "nbformat": 4,
 "nbformat_minor": 5
}
