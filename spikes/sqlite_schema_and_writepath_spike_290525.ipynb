{
 "cells": [
  {
   "cell_type": "markdown",
   "id": "dca26219",
   "metadata": {},
   "source": [
    "# Spike: SQLite Schema & Write\n",
    "\n",
    "Here we’ll stand up an **in-memory** SQLite database, define the `positions` and `analyses` tables, insert a few rows, and query them back to verify the schema.\n"
   ]
  },
  {
   "cell_type": "code",
   "execution_count": 1,
   "id": "5cd2797f",
   "metadata": {},
   "outputs": [],
   "source": [
    "import sqlite3"
   ]
  },
  {
   "cell_type": "code",
   "execution_count": 2,
   "id": "ed381e44",
   "metadata": {},
   "outputs": [],
   "source": [
    "conn = sqlite3.connect(':memory:')\n",
    "c = conn.cursor()"
   ]
  },
  {
   "cell_type": "code",
   "execution_count": 3,
   "id": "2c61e16a",
   "metadata": {},
   "outputs": [
    {
     "data": {
      "text/plain": [
       "<sqlite3.Cursor at 0x10e0debc0>"
      ]
     },
     "execution_count": 3,
     "metadata": {},
     "output_type": "execute_result"
    }
   ],
   "source": [
    "c.execute(\"\"\"\n",
    "          CREATE TABLE positions (\n",
    "                id INTEGER PRIMARY KEY,\n",
    "                fen TEXT UNIQUE\n",
    "          )\n",
    "          \"\"\")"
   ]
  },
  {
   "cell_type": "code",
   "execution_count": 4,
   "id": "52ec00f5",
   "metadata": {},
   "outputs": [
    {
     "data": {
      "text/plain": [
       "<sqlite3.Cursor at 0x10e0debc0>"
      ]
     },
     "execution_count": 4,
     "metadata": {},
     "output_type": "execute_result"
    }
   ],
   "source": [
    "c.execute(\"\"\"\n",
    "          CREATE TABLE analyses (\n",
    "                id INTEGER PRIMARY KEY,\n",
    "                position_id INTEGER,\n",
    "                depth INTEGER,\n",
    "                multipv INTEGER,\n",
    "                score INTEGER,\n",
    "                pv TEXT,\n",
    "                timestamp DATETIME DEFAULT CURRENT_TIMESTAMP,\n",
    "                FOREIGN KEY (position_id) REFERENCES positions(id)\n",
    "          )\n",
    "          \"\"\")"
   ]
  },
  {
   "cell_type": "code",
   "execution_count": 5,
   "id": "0eadd1fe",
   "metadata": {},
   "outputs": [
    {
     "data": {
      "text/plain": [
       "<sqlite3.Cursor at 0x10e0debc0>"
      ]
     },
     "execution_count": 5,
     "metadata": {},
     "output_type": "execute_result"
    }
   ],
   "source": [
    "c.execute(\"INSERT INTO positions (fen) VALUES (?)\", (\"rn1qkbnr/ppp2ppp/4p3/3pP3/8/3P1N2/PPP2PPP/RNBQKB1R w KQkq - 0 1\",))\n",
    "pos_id = c.lastrowid\n",
    "c.execute(\"INSERT INTO analyses (position_id, depth, multipv, score, pv) VALUES (?, ?, ?, ?, ?)\",\n",
    "          (pos_id, 12, 3, 15, \"e4 d5 Nf3\"))"
   ]
  },
  {
   "cell_type": "code",
   "execution_count": 6,
   "id": "cfdf5272",
   "metadata": {},
   "outputs": [],
   "source": [
    "conn.commit()"
   ]
  },
  {
   "cell_type": "code",
   "execution_count": 7,
   "id": "04640aff",
   "metadata": {},
   "outputs": [
    {
     "name": "stdout",
     "output_type": "stream",
     "text": [
      "('rn1qkbnr/ppp2ppp/4p3/3pP3/8/3P1N2/PPP2PPP/RNBQKB1R w KQkq - 0 1', 12, 3, 15, 'e4 d5 Nf3')\n"
     ]
    }
   ],
   "source": [
    "for row in c.execute(\"\"\"\n",
    "                     SELECT p.fen, a.depth, a.multipv, a.score, a.pv\n",
    "                     FROM analyses a\n",
    "                     JOIN positions p ON a.position_id = p.id\n",
    "                     \"\"\"):\n",
    "    print(row)"
   ]
  },
  {
   "cell_type": "code",
   "execution_count": 8,
   "id": "267e8526",
   "metadata": {},
   "outputs": [],
   "source": [
    "conn.close()"
   ]
  },
  {
   "cell_type": "code",
   "execution_count": null,
   "id": "ea7c811f",
   "metadata": {},
   "outputs": [],
   "source": []
  }
 ],
 "metadata": {
  "kernelspec": {
   "display_name": "Python (safechess)",
   "language": "python",
   "name": "safechess"
  },
  "language_info": {
   "codemirror_mode": {
    "name": "ipython",
    "version": 3
   },
   "file_extension": ".py",
   "mimetype": "text/x-python",
   "name": "python",
   "nbconvert_exporter": "python",
   "pygments_lexer": "ipython3",
   "version": "3.12.10"
  }
 },
 "nbformat": 4,
 "nbformat_minor": 5
}
