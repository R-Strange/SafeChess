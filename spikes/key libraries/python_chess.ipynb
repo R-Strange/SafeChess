{
 "cells": [
  {
   "cell_type": "markdown",
   "id": "7218dd26",
   "metadata": {},
   "source": [
    "# Python-Chess\n",
    "\n",
    "## 1. Introduction\n",
    "python-chess is a pure‐Python library for working with chess data: board representation, move generation, PGN/Polyglot I/O, and UCI engine communication. It underpins SafeChess’s core logic, giving us:\n",
    "\n",
    "Accurate FEN/PGN parsing and serialization\n",
    "Full move legality checks, castling, en passant\n",
    "Easy integration with UCI engines (Stockfish)\n",
    "## 2. Paradigm & Key Objects\n",
    "We use python-chess in three main contexts:\n",
    "\n",
    "\n",
    "|Context|Core Objects|\n",
    "|---|---|\n",
    "|Position & Moves|`Board`, `Move`, `SquareSet`|\n",
    "|Game Streams|`Game`, `GameNode`, `chess.pgn`|\n",
    "|Engine I/O|`SimpleEngine`, `uci module`|\n",
    "\n",
    "`Board`\n",
    "Holds the full position (pieces, turn, castling rights, moves stack).\n",
    "`Move`\n",
    "Represents a single move, in UCI or SAN form.\n",
    "`Game` / `GameNode`\n",
    "A tree structure for PGN games; each `GameNode` has a `board()` and `mainline_moves()`.\n",
    "`SimpleEngine`\n",
    "A thin wrapper around UCI engines, giving `.analyse()` and `.play()` methods.\n",
    "\n",
    "## 3. Code examples\n",
    "\n",
    "### Installation \n",
    "\n",
    "to install `python-chess`, we do\n",
    "\n",
    "```bash\n",
    "pip install python-chess\n",
    "```\n",
    "\n",
    "### Basic Moves"
   ]
  },
  {
   "cell_type": "code",
   "execution_count": 1,
   "id": "be0c9f6f",
   "metadata": {},
   "outputs": [],
   "source": [
    "import chess"
   ]
  },
  {
   "cell_type": "code",
   "execution_count": 6,
   "id": "0a35fbe1",
   "metadata": {},
   "outputs": [
    {
     "name": "stdout",
     "output_type": "stream",
     "text": [
      "r n b q k b n r\n",
      "p p p p p p p p\n",
      ". . . . . . . .\n",
      ". . . . . . . .\n",
      ". . . . . . . .\n",
      ". . . . . . . .\n",
      "P P P P P P P P\n",
      "R N B Q K B N R\n"
     ]
    }
   ],
   "source": [
    "#create a chess baord with pieces in starting positions\n",
    "board = chess.Board()\n",
    "#display the board\n",
    "print(board)"
   ]
  },
  {
   "cell_type": "markdown",
   "id": "6f7cd9f6",
   "metadata": {},
   "source": [
    "we have several formats for moves:\n",
    "\n",
    "**Universal Chess Interface (UCI)** aka Coordinate Notation - \n",
    "\n",
    "\"`e2e4`\" (piece moves from `e2` to `e4` )\n",
    "\n",
    "A nice and strict \"from square to square\" notation, good for engines without the need for handling edge cases around standard algebraic notation for ambiguous moves like `Rab1` where either rook could move to `b1`.\n",
    "\n",
    "**Standard Algebraic Notation (SAN)** -  \n",
    "\n",
    "\"`e4`\" (pawn moves to e4 (from `e3` or `e2`))\n",
    "\n",
    "The normal form seen in literature - more human readable. format can vary, following this pattern:\n",
    "\n",
    "Piece identifier, additional file or rank (in that order of preference) value if ambiguous, piece taken?, final coordinate, check or checkmate flag.\n",
    "\n",
    "so if we have two Rooks on the 1st rank, one on `a` and one on `f`, and an opposing rook on `e1`, and the rook on `a1` takes the opposing rook, resulting in a checkmate for White:\n",
    "`R` (Rook identifier) `a` (on a, as either rook could have made this move), `x` (takes the piece on the final square) `e1` (moves to `e1`), `#` (checkmating the black King) - or `Raxe1#`\n",
    "\n",
    "the pieces are: pawn (omitted), Knight (N), Bishop (B), Rook (R), Queen (Q) and King (K). \n",
    "\n",
    "When a pawn makes a capture, its original **rank** is included too. So a black pawn on `d4` taking a white pawn on `e3` will look like [`e3, dxe3`].\n",
    "\n",
    "Remember the edge case around en passant, where the following exchange: [`e4, dxe3`] is legal, and is the only condition we take a piece without landing on its square.\n",
    "\n",
    "Another unusual notation is `0-0` or `O-O` for Kingside castling, and `0-0-0` or `O-O-O` for Queenside castling.\n",
    "\n",
    "Finally, promotion is noted as: final coordinate, =, new piece value. so a Queen promotion on `e8` is `e8=Q`, and underpromotion to a knight on c8 is `c8=N`.\n",
    "\n",
    "\n",
    "**We will handle UCI in our engine, and display SAN for human readability. We can also use unicode characters or emojis for the pieces too**\n",
    "\n"
   ]
  },
  {
   "cell_type": "code",
   "execution_count": null,
   "id": "fdd5e78f",
   "metadata": {},
   "outputs": [
    {
     "name": "stdout",
     "output_type": "stream",
     "text": [
      "r n b q k b n r\n",
      "p p p p p p p p\n",
      ". . . . . . . .\n",
      ". . . . . . . .\n",
      ". . . . P . . .\n",
      ". . . . . . . .\n",
      "P P P P . P P P\n",
      "R N B Q K B N R\n"
     ]
    }
   ],
   "source": [
    "move = chess.Move.from_uci(\"e2e4\")\n",
    "#check if the move is legal\n",
    "if move in board.legal_moves:\n",
    "    #make the move\n",
    "    board.push(move)\n",
    "    print(board)\n",
    "else:\n",
    "    print(\"Illegal move\")"
   ]
  },
  {
   "cell_type": "code",
   "execution_count": 8,
   "id": "0e49973f",
   "metadata": {},
   "outputs": [
    {
     "name": "stdout",
     "output_type": "stream",
     "text": [
      "Move in SAN: e5\n"
     ]
    }
   ],
   "source": [
    "# converting the next move to SAN\n",
    "move_san = board.san(chess.Move.from_uci(\"e7e5\"))\n",
    "print(f\"Move in SAN: {move_san}\")"
   ]
  },
  {
   "cell_type": "markdown",
   "id": "f1d366ca",
   "metadata": {},
   "source": [
    "### Inpecting all legal moves"
   ]
  },
  {
   "cell_type": "code",
   "execution_count": 15,
   "id": "11917ef5",
   "metadata": {},
   "outputs": [
    {
     "name": "stdout",
     "output_type": "stream",
     "text": [
      "[Move.from_uci('g8h6'), Move.from_uci('g8f6'), Move.from_uci('b8c6'), Move.from_uci('b8a6'), Move.from_uci('h7h6'), Move.from_uci('g7g6'), Move.from_uci('f7f6'), Move.from_uci('e7e6'), Move.from_uci('d7d6'), Move.from_uci('c7c6'), Move.from_uci('b7b6'), Move.from_uci('a7a6'), Move.from_uci('h7h5'), Move.from_uci('g7g5'), Move.from_uci('f7f5'), Move.from_uci('e7e5'), Move.from_uci('d7d5'), Move.from_uci('c7c5'), Move.from_uci('b7b5'), Move.from_uci('a7a5')]\n",
      "white king is on the coordinates:  [4]\n"
     ]
    }
   ],
   "source": [
    "print(list(board.legal_moves))\n",
    "\n",
    "#Filter board by piece\n",
    "king_squares = [square for square in board.pieces(chess.KING, chess.WHITE)]\n",
    "print(\"white king is on the coordinates: \", king_squares)"
   ]
  },
  {
   "cell_type": "markdown",
   "id": "1abb812e",
   "metadata": {},
   "source": [
    "### FEN and PGN I/O\n",
    "\n",
    "#### FEN \n",
    "FEN (Forsyth-Edwards Notation) is the way of storing a board at a given state and position at one point in \"time\".\n",
    "\n",
    "e.g. `rnbqkbnr/pppppppp/8/8/4P3/8/PPPP1PPP/RNBQKBNR b KQkq e3 0 1`\n",
    "\n",
    "which means, **going backwards from a8 to h1**, with lowercase letters for black, and Uppercase letters for white:\n",
    "\n",
    "Rank 8: Rook, Knight, Bishop, Queen, King, Bishop, Knight, Rook\n",
    "\n",
    "Rank 7: 8 Pawns\n",
    "\n",
    "Rank 6: 8 Blank spaces\n",
    "\n",
    "Rank 5: 8 Blank spaces\n",
    "\n",
    "Rank 4: 4 Blank spaces, a WHITE Pawn (uppercase!), and then 3 blank spaces\n",
    "\n",
    "Rank 3: 8 Blank spaces\n",
    "\n",
    "Rank 2: 4 Pawns, a gap of 1, and 3 Pawns\n",
    "\n",
    "Rank 1: Rook, Knight, Bishop, Queen, King, Bishop, Knight, Rook\n",
    "\n",
    "\n",
    "After that is the state metadata:\n",
    "\n",
    "**Active colour**: `b` or `w` - here Black is to move next\n",
    "\n",
    "**Castling availability**: `K`, `Q`, `k`, `q` - here, both WHITE and black can still castle `K`ingside and `Q`ueenside\n",
    "\n",
    "**En passant target square**: coordinate or `-` - here, as white double advanced their `e` pawn as `e2e4` or just `e4`, Black might take on `e3` if possible. If white opened with `e3` instead, a `-` would be seen as no en passant target square is available.\n",
    "\n",
    "**Half-move clock**: How man half moves have occured since the last capture or pawn advance  - used for the 50 move draw timeout rule.\n",
    "\n",
    "**Full moves**: How many full moves (White and Black move once per full move) in the game so far.\n",
    "\n",
    "#### PGN\n",
    "Portable Game Notation - for electronic records of games with metadata:\n",
    "\n",
    "```pgn\n",
    "[Event \"F/S Return Match\"]\n",
    "[Site \"Belgrade, Serbia JUG\"]\n",
    "[Date \"1992.11.04\"]\n",
    "[Round \"29\"]\n",
    "[White \"Fischer, Robert J.\"]\n",
    "[Black \"Spassky, Boris V.\"]\n",
    "[Result \"1/2-1/2\"]\n",
    "\n",
    "1.e4 e5 2.Nf3 Nc6 3.Bb5 {This opening is called the Ruy Lopez.} 3...a6\n",
    "4.Ba4 Nf6 5.O-O Be7 6.Re1 b5 7.Bb3 d6 8.c3 O-O 9.h3 Nb8 10.d4 Nbd7\n",
    "11.c4 c6 12.cxb5 axb5 13.Nc3 Bb7 14.Bg5 b4 15.Nb1 h6 16.Bh4 c5 17.dxe5\n",
    "Nxe4 18.Bxe7 Qxe7 19.exd6 Qf6 20.Nbd2 Nxd6 21.Nc4 Nxc4 22.Bxc4 Nb6\n",
    "23.Ne5 Rae8 24.Bxf7+ Rxf7 25.Nxf7 Rxe1+ 26.Qxe1 Kxf7 27.Qe3 Qg5 28.Qxg5\n",
    "hxg5 29.b3 Ke6 30.a3 Kd6 31.axb4 cxb4 32.Ra5 Nd5 33.f3 Bc8 34.Kf2 Bf5\n",
    "35.Ra7 g6 36.Ra6+ Kc5 37.Ke1 Nf4 38.g3 Nxh3 39.Kd2 Kb5 40.Rd6 Kc5 41.Ra6\n",
    "Nf2 42.g4 Bd3 43.Re6 1/2-1/2\n",
    "```\n",
    "\n",
    "Those seven metadata tages MUST appear in any PGN.\n",
    "\n",
    "Note the comment.\n",
    "\n",
    "Note that we can add Numeric Annotation Graphs or NAGs to each move, to denote assessment of move, position or commentary. There are too many to list here, but we will need to use them in the future when reporting lines back to a user."
   ]
  },
  {
   "cell_type": "code",
   "execution_count": 20,
   "id": "30005521",
   "metadata": {},
   "outputs": [
    {
     "name": "stdout",
     "output_type": "stream",
     "text": [
      "FEN:  rnbqkbnr/pppppppp/8/8/4P3/8/PPPP1PPP/RNBQKBNR b KQkq - 0 1\n"
     ]
    }
   ],
   "source": [
    "fen = board.fen()\n",
    "print(\"FEN: \", fen)"
   ]
  },
  {
   "cell_type": "code",
   "execution_count": 21,
   "id": "b8f694d9",
   "metadata": {},
   "outputs": [
    {
     "name": "stdout",
     "output_type": "stream",
     "text": [
      "r n b q k b n r\n",
      "p p p p p p p p\n",
      ". . . . . . . .\n",
      ". . . . . . . .\n",
      ". . . . P . . .\n",
      ". . . . . . . .\n",
      "P P P P . P P P\n",
      "R N B Q K B N R\n"
     ]
    }
   ],
   "source": [
    "board2 = chess.Board(fen)\n",
    "print(board2)"
   ]
  },
  {
   "cell_type": "code",
   "execution_count": 26,
   "id": "226782c6",
   "metadata": {},
   "outputs": [
    {
     "name": "stdout",
     "output_type": "stream",
     "text": [
      "Let\\\\'s Play!\n",
      "[Event \"My Spike\"]\n",
      "[Site \"?\"]\n",
      "[Date \"????.??.??\"]\n",
      "[Round \"?\"]\n",
      "[White \"?\"]\n",
      "[Black \"?\"]\n",
      "[Result \"*\"]\n",
      "\n",
      "1. e4 e5 2. Nf3 *\n"
     ]
    }
   ],
   "source": [
    "board = chess.Board()\n",
    "\n",
    "# PGN Reading\n",
    "import chess.pgn\n",
    "with open(\"../data/example_pgn_1.pgn\") as f:\n",
    "    game = chess.pgn.read_game(f)\n",
    "    print(game.headers[\"Event\"])\n",
    "    for move in game.mainline_moves():\n",
    "        board.push(move)\n",
    "\n",
    "# PGN Writing\n",
    "game = chess.pgn.Game()\n",
    "game.headers[\"Event\"] = \"My Spike\"\n",
    "node = game\n",
    "for uci in [\"e2e4\",\"e7e5\",\"g1f3\"]:\n",
    "    move = chess.Move.from_uci(uci)\n",
    "    node = node.add_variation(move)\n",
    "print(game)  # full PGN"
   ]
  },
  {
   "cell_type": "markdown",
   "id": "a1e2e30c",
   "metadata": {},
   "source": [
    "### Engines\n",
    "\n",
    "We can wrap python-chess around almost any common engine with the `UCI` or `SimpleEngine` interfaces"
   ]
  },
  {
   "cell_type": "code",
   "execution_count": 27,
   "id": "10de7f99",
   "metadata": {},
   "outputs": [
    {
     "name": "stdout",
     "output_type": "stream",
     "text": [
      "#1: -611 → 18. Bxd5+ Rxd5 19. Bxb6 cxb6 20. Nf3 Bxh1 21. Nbd2 Bg2 22. Rg1 Bxf3+ 23. Nxf3 Rc5 24. Rg4 Rc7\n",
      "#2: -620 → 18. Nh3 Bxh1 19. f3 Bg2 20. Bxd5+ Rxd5\n",
      "#3: -654 → 18. f3 Bxh1 19. Nh3 Bg2 20. a4 Kxa7\n"
     ]
    }
   ],
   "source": [
    "import os\n",
    "import chess.engine\n",
    "\n",
    "# Launch engine\n",
    "engine = chess.engine.SimpleEngine.popen_uci(os.getenv(\"STOCKFISH_PATH\"))\n",
    "\n",
    "# Single‐position analysis\n",
    "info = engine.analyse(board, chess.engine.Limit(depth=12), multipv=3)\n",
    "for i, entry in enumerate(info, start=1):\n",
    "    score = entry[\"score\"].white().score()\n",
    "    pv = board.variation_san(entry[\"pv\"])\n",
    "    print(f\"#{i}: {score:+} → {pv}\")\n",
    "\n",
    "engine.quit()\n"
   ]
  },
  {
   "cell_type": "code",
   "execution_count": null,
   "id": "1d1bb245",
   "metadata": {},
   "outputs": [],
   "source": []
  }
 ],
 "metadata": {
  "kernelspec": {
   "display_name": "Python (safechess)",
   "language": "python",
   "name": "safechess"
  },
  "language_info": {
   "codemirror_mode": {
    "name": "ipython",
    "version": 3
   },
   "file_extension": ".py",
   "mimetype": "text/x-python",
   "name": "python",
   "nbconvert_exporter": "python",
   "pygments_lexer": "ipython3",
   "version": "3.12.10"
  }
 },
 "nbformat": 4,
 "nbformat_minor": 5
}
