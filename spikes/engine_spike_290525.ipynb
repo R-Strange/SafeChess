{
 "cells": [
  {
   "cell_type": "code",
   "execution_count": 1,
   "id": "c028bc8b",
   "metadata": {},
   "outputs": [],
   "source": [
    "import chess\n",
    "import chess.engine\n",
    "import pandas as pd\n",
    "from tqdm import tqdm"
   ]
  },
  {
   "cell_type": "code",
   "execution_count": 2,
   "id": "f3122057",
   "metadata": {},
   "outputs": [],
   "source": [
    "from dotenv import load_dotenv\n",
    "import os"
   ]
  },
  {
   "cell_type": "code",
   "execution_count": 3,
   "id": "212984cf",
   "metadata": {},
   "outputs": [
    {
     "data": {
      "text/plain": [
       "True"
      ]
     },
     "execution_count": 3,
     "metadata": {},
     "output_type": "execute_result"
    }
   ],
   "source": [
    "load_dotenv()"
   ]
  },
  {
   "cell_type": "code",
   "execution_count": 4,
   "id": "5ea3c9df",
   "metadata": {},
   "outputs": [],
   "source": [
    "STOCKFISH_PATH = os.getenv(\"STOCKFISH_PATH\")\n",
    "ENGINE_DEPTH = int(os.getenv(\"ENGINE_DEPTH\", 20))\n",
    "ENGINE_TIME = int(os.getenv(\"ENGINE_TIME\", 10))"
   ]
  },
  {
   "cell_type": "code",
   "execution_count": 5,
   "id": "ec45a019",
   "metadata": {},
   "outputs": [
    {
     "data": {
      "text/plain": [
       "'/usr/local/bin/stockfish'"
      ]
     },
     "execution_count": 5,
     "metadata": {},
     "output_type": "execute_result"
    }
   ],
   "source": [
    "STOCKFISH_PATH"
   ]
  },
  {
   "cell_type": "code",
   "execution_count": 6,
   "id": "83c5e39f",
   "metadata": {},
   "outputs": [],
   "source": [
    "engine = chess.engine.SimpleEngine.popen_uci(STOCKFISH_PATH)"
   ]
  },
  {
   "cell_type": "code",
   "execution_count": 7,
   "id": "361d308c",
   "metadata": {},
   "outputs": [],
   "source": [
    "fens = [\n",
    "    \"rnbqkbnr/pppppppp/8/8/8/8/PPPPPPPP/RNBQKBNR w KQkq - 0 1\",  # Starting position\n",
    "    \"r1bqkbnr/pppppppp/2n5/8/4P3/5N2/PPPP1PPP/RNBQKB1R b KQkq - 2 2\",  # Early opening\n",
    "    \"r2q1rk1/ppp2ppp/2n2n2/2bp4/4P3/2NP1N2/PPP2PPP/R1BQ1RK1 w - - 0 8\"  # Semi-open mid-opening\n",
    "]"
   ]
  },
  {
   "cell_type": "code",
   "execution_count": 8,
   "id": "f1828a56",
   "metadata": {},
   "outputs": [],
   "source": [
    "results = []"
   ]
  },
  {
   "cell_type": "code",
   "execution_count": 9,
   "id": "6e05521d",
   "metadata": {},
   "outputs": [
    {
     "name": "stderr",
     "output_type": "stream",
     "text": [
      "100%|██████████| 3/3 [00:04<00:00,  1.42s/it]\n"
     ]
    }
   ],
   "source": [
    "for fen in tqdm(fens):\n",
    "    board = chess.Board(fen)\n",
    "    info = engine.analyse(board, chess.engine.Limit(depth=20))\n",
    "    \n",
    "    results.append(\n",
    "        {\n",
    "            \"fen\": fen,\n",
    "            \"score\": info[\"score\"].white().score(),\n",
    "            \"best move\": board.san(info[\"pv\"][0]) if info[\"pv\"] else None\n",
    "        }\n",
    "    )"
   ]
  },
  {
   "cell_type": "code",
   "execution_count": 10,
   "id": "8de316f2",
   "metadata": {},
   "outputs": [],
   "source": [
    "engine.quit()"
   ]
  },
  {
   "cell_type": "code",
   "execution_count": 11,
   "id": "402c4ed2",
   "metadata": {},
   "outputs": [
    {
     "data": {
      "text/html": [
       "<div>\n",
       "<style scoped>\n",
       "    .dataframe tbody tr th:only-of-type {\n",
       "        vertical-align: middle;\n",
       "    }\n",
       "\n",
       "    .dataframe tbody tr th {\n",
       "        vertical-align: top;\n",
       "    }\n",
       "\n",
       "    .dataframe thead th {\n",
       "        text-align: right;\n",
       "    }\n",
       "</style>\n",
       "<table border=\"1\" class=\"dataframe\">\n",
       "  <thead>\n",
       "    <tr style=\"text-align: right;\">\n",
       "      <th></th>\n",
       "      <th>fen</th>\n",
       "      <th>score</th>\n",
       "      <th>best move</th>\n",
       "    </tr>\n",
       "  </thead>\n",
       "  <tbody>\n",
       "    <tr>\n",
       "      <th>0</th>\n",
       "      <td>rnbqkbnr/pppppppp/8/8/8/8/PPPPPPPP/RNBQKBNR w ...</td>\n",
       "      <td>40</td>\n",
       "      <td>e4</td>\n",
       "    </tr>\n",
       "    <tr>\n",
       "      <th>1</th>\n",
       "      <td>r1bqkbnr/pppppppp/2n5/8/4P3/5N2/PPPP1PPP/RNBQK...</td>\n",
       "      <td>27</td>\n",
       "      <td>e5</td>\n",
       "    </tr>\n",
       "    <tr>\n",
       "      <th>2</th>\n",
       "      <td>r2q1rk1/ppp2ppp/2n2n2/2bp4/4P3/2NP1N2/PPP2PPP/...</td>\n",
       "      <td>218</td>\n",
       "      <td>e5</td>\n",
       "    </tr>\n",
       "  </tbody>\n",
       "</table>\n",
       "</div>"
      ],
      "text/plain": [
       "                                                 fen  score best move\n",
       "0  rnbqkbnr/pppppppp/8/8/8/8/PPPPPPPP/RNBQKBNR w ...     40        e4\n",
       "1  r1bqkbnr/pppppppp/2n5/8/4P3/5N2/PPPP1PPP/RNBQK...     27        e5\n",
       "2  r2q1rk1/ppp2ppp/2n2n2/2bp4/4P3/2NP1N2/PPP2PPP/...    218        e5"
      ]
     },
     "execution_count": 11,
     "metadata": {},
     "output_type": "execute_result"
    }
   ],
   "source": [
    "df = pd.DataFrame(results)\n",
    "\n",
    "df"
   ]
  },
  {
   "cell_type": "markdown",
   "id": "0bd20c48",
   "metadata": {},
   "source": [
    "These are the expected best moves."
   ]
  }
 ],
 "metadata": {
  "kernelspec": {
   "display_name": "Python (safechess)",
   "language": "python",
   "name": "safechess"
  },
  "language_info": {
   "codemirror_mode": {
    "name": "ipython",
    "version": 3
   },
   "file_extension": ".py",
   "mimetype": "text/x-python",
   "name": "python",
   "nbconvert_exporter": "python",
   "pygments_lexer": "ipython3",
   "version": "3.12.10"
  }
 },
 "nbformat": 4,
 "nbformat_minor": 5
}
