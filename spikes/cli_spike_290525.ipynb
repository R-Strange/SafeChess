{
 "cells": [
  {
   "cell_type": "markdown",
   "id": "d0dad516",
   "metadata": {},
   "source": [
    "# Spike: CLI Prototype\n",
    "\n",
    "We’ll wire up a minimal `click`-based CLI (`safechess analyze`) that reads PGN, depth, multipv, and prints one score per game.\n"
   ]
  },
  {
   "cell_type": "code",
   "execution_count": 3,
   "id": "634006f3",
   "metadata": {},
   "outputs": [],
   "source": [
    "import click\n",
    "import chess.pgn\n",
    "import chess.engine\n",
    "from dotenv import load_dotenv\n",
    "import os"
   ]
  },
  {
   "cell_type": "code",
   "execution_count": 4,
   "id": "20159b68",
   "metadata": {},
   "outputs": [
    {
     "name": "stderr",
     "output_type": "stream",
     "text": [
      "Usage: ipykernel_launcher.py [OPTIONS]\n",
      "Try 'ipykernel_launcher.py --help' for help.\n",
      "\n",
      "Error: No such option: --f\n"
     ]
    },
    {
     "ename": "SystemExit",
     "evalue": "2",
     "output_type": "error",
     "traceback": [
      "An exception has occurred, use %tb to see the full traceback.\n",
      "\u001b[31mSystemExit\u001b[39m\u001b[31m:\u001b[39m 2\n"
     ]
    },
    {
     "name": "stderr",
     "output_type": "stream",
     "text": [
      "/Users/richardstrange/Desktop/Projects/SafeChess/.direnv/python-3.12.10/lib/python3.12/site-packages/IPython/core/interactiveshell.py:3678: UserWarning: To exit: use 'exit', 'quit', or Ctrl-D.\n",
      "  warn(\"To exit: use 'exit', 'quit', or Ctrl-D.\", stacklevel=1)\n"
     ]
    }
   ],
   "source": [
    "@click.command()\n",
    "@click.option(\"--pgn\", type=click.Path(exists=True), required=True)\n",
    "@click.option(\"--depth\", default=20)\n",
    "@click.option(\"--multipv\", default=1)\n",
    "@click.option(\"--engine-path\", default=None)\n",
    "def analyse(pgn, depth, multipv, engine_path):\n",
    "    engine_path = engine_path or os.getenv(\"STOCKFISH_PATH\")\n",
    "    engine = chess.engine.SimpleEngine.popen_uci(engine_path)\n",
    "    \n",
    "    with open(pgn) as f:\n",
    "        for game in iter(lambda: chess.pgn.read_game(f), None):\n",
    "            board = game.board()\n",
    "            info = engine.analyse(board, chess.engine.Limit(depth=depth), multipv=multipv)\n",
    "            score = info[0][\"score\"].white().score() if isinstance(info, list) else info[\"score\"].white().score()\n",
    "            click.echo(f\"Game #{game.headers.get(\"Event\", \"?\")} -> Score: {score}\")\n",
    "        engine.quit()\n",
    "        \n",
    "if __name__ == \"__main__\":\n",
    "    load_dotenv()\n",
    "    analyse()\n",
    "        "
   ]
  },
  {
   "cell_type": "code",
   "execution_count": null,
   "id": "c0ceb13e",
   "metadata": {},
   "outputs": [],
   "source": []
  }
 ],
 "metadata": {
  "kernelspec": {
   "display_name": "Python (safechess)",
   "language": "python",
   "name": "safechess"
  },
  "language_info": {
   "codemirror_mode": {
    "name": "ipython",
    "version": 3
   },
   "file_extension": ".py",
   "mimetype": "text/x-python",
   "name": "python",
   "nbconvert_exporter": "python",
   "pygments_lexer": "ipython3",
   "version": "3.12.10"
  }
 },
 "nbformat": 4,
 "nbformat_minor": 5
}
