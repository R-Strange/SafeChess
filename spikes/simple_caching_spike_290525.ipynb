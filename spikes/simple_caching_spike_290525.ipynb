{
 "cells": [
  {
   "cell_type": "markdown",
   "id": "bfffb113",
   "metadata": {},
   "source": [
    "# Spike: Simple Caching Layer\n",
    "\n",
    "We’ll build a tiny on-disk cache (using `shelve`) keyed by `(fen, depth, multipv)` to avoid re-running the engine on already-seen positions.\n"
   ]
  },
  {
   "cell_type": "code",
   "execution_count": 2,
   "id": "d9f98fac",
   "metadata": {},
   "outputs": [],
   "source": [
    "import shelve\n",
    "from hashlib import sha1"
   ]
  },
  {
   "cell_type": "code",
   "execution_count": 3,
   "id": "d0b0c066",
   "metadata": {},
   "outputs": [],
   "source": [
    "def cache_key(fen, depth, multipv):\n",
    "    key = f\"{fen}|d{depth}|m{multipv}\"\n",
    "    return sha1(key.encode()).hexdigest()"
   ]
  },
  {
   "cell_type": "code",
   "execution_count": 4,
   "id": "0b9b69c7",
   "metadata": {},
   "outputs": [],
   "source": [
    "cache = shelve.open(\"cache.db\")"
   ]
  },
  {
   "cell_type": "code",
   "execution_count": 6,
   "id": "acdd6fd8",
   "metadata": {},
   "outputs": [],
   "source": [
    "def analyse_with_cache(fen, depth, multipv, engine):\n",
    "    key = cache_key(fen, depth, multipv)\n",
    "    \n",
    "    if key in cache:\n",
    "        return cache[key]\n",
    "    \n",
    "    info = engine.analyse(chess.Board(fen),\n",
    "                          chess.engine.Limit(depth=depth),\n",
    "                            multipv=multipv,\n",
    "    )\n",
    "    \n",
    "    cache[key] = info\n",
    "    return info"
   ]
  },
  {
   "cell_type": "code",
   "execution_count": 7,
   "id": "b6b87a27",
   "metadata": {},
   "outputs": [],
   "source": [
    "cache.close()"
   ]
  }
 ],
 "metadata": {
  "kernelspec": {
   "display_name": "Python (safechess)",
   "language": "python",
   "name": "safechess"
  },
  "language_info": {
   "codemirror_mode": {
    "name": "ipython",
    "version": 3
   },
   "file_extension": ".py",
   "mimetype": "text/x-python",
   "name": "python",
   "nbconvert_exporter": "python",
   "pygments_lexer": "ipython3",
   "version": "3.12.10"
  }
 },
 "nbformat": 4,
 "nbformat_minor": 5
}
