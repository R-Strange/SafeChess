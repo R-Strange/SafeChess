{
 "cells": [
  {
   "cell_type": "markdown",
   "id": "18b9e572",
   "metadata": {},
   "source": [
    "# Spike: Threshold Sweep\n",
    "\n",
    "We’ll loop over a grid of `(depth, multipv)` and record the top-line score for a sample FEN to see how scores vary.\n"
   ]
  },
  {
   "cell_type": "code",
   "execution_count": 1,
   "id": "9ee5a8af",
   "metadata": {},
   "outputs": [],
   "source": [
    "import chess, chess.engine\n",
    "import itertools, csv\n",
    "import os\n",
    "from dotenv import load_dotenv"
   ]
  },
  {
   "cell_type": "code",
   "execution_count": 2,
   "id": "8a6721e1",
   "metadata": {},
   "outputs": [
    {
     "data": {
      "text/plain": [
       "True"
      ]
     },
     "execution_count": 2,
     "metadata": {},
     "output_type": "execute_result"
    }
   ],
   "source": [
    "load_dotenv()"
   ]
  },
  {
   "cell_type": "code",
   "execution_count": 3,
   "id": "0840edb7",
   "metadata": {},
   "outputs": [],
   "source": [
    "STOCKFISH_PATH = os.getenv(\"STOCKFISH_PATH\")"
   ]
  },
  {
   "cell_type": "code",
   "execution_count": 4,
   "id": "2d45f385",
   "metadata": {},
   "outputs": [],
   "source": [
    "sample_fen = \"rnbqkbnr/pp1ppppp/2p5/8/4P3/5N2/PPPP1PPP/RNBQKB1R w KQkq - 0 2\""
   ]
  },
  {
   "cell_type": "code",
   "execution_count": 5,
   "id": "4163d2e9",
   "metadata": {},
   "outputs": [],
   "source": [
    "depths = [1, 2, 4, 8, 16, 32]\n",
    "multipvs = [1, 3, 5]\n",
    "results = []"
   ]
  },
  {
   "cell_type": "code",
   "execution_count": 6,
   "id": "4dc08df9",
   "metadata": {},
   "outputs": [],
   "source": [
    "engine = chess.engine.SimpleEngine.popen_uci(STOCKFISH_PATH)"
   ]
  },
  {
   "cell_type": "code",
   "execution_count": 9,
   "id": "bfc0fad3",
   "metadata": {},
   "outputs": [
    {
     "name": "stdout",
     "output_type": "stream",
     "text": [
      "Running depth 1 with multipv 1\n",
      "Running depth 1 with multipv 3\n",
      "Running depth 1 with multipv 5\n",
      "Running depth 2 with multipv 1\n",
      "Running depth 2 with multipv 3\n",
      "Running depth 2 with multipv 5\n",
      "Running depth 4 with multipv 1\n",
      "Running depth 4 with multipv 3\n",
      "Running depth 4 with multipv 5\n",
      "Running depth 8 with multipv 1\n",
      "Running depth 8 with multipv 3\n",
      "Running depth 8 with multipv 5\n",
      "Running depth 16 with multipv 1\n",
      "Running depth 16 with multipv 3\n",
      "Running depth 16 with multipv 5\n",
      "Running depth 32 with multipv 1\n",
      "Running depth 32 with multipv 3\n",
      "Running depth 32 with multipv 5\n",
      "[{'depth': 1, 'multipv': 1, 'score': 82}, {'depth': 1, 'multipv': 3, 'score': 82}, {'depth': 1, 'multipv': 5, 'score': 82}, {'depth': 2, 'multipv': 1, 'score': 86}, {'depth': 2, 'multipv': 3, 'score': 97}, {'depth': 2, 'multipv': 5, 'score': 97}, {'depth': 4, 'multipv': 1, 'score': 115}, {'depth': 4, 'multipv': 3, 'score': 125}, {'depth': 4, 'multipv': 5, 'score': 134}, {'depth': 8, 'multipv': 1, 'score': 117}, {'depth': 8, 'multipv': 3, 'score': 119}, {'depth': 8, 'multipv': 5, 'score': 119}, {'depth': 16, 'multipv': 1, 'score': 110}, {'depth': 16, 'multipv': 3, 'score': 112}, {'depth': 16, 'multipv': 5, 'score': 104}, {'depth': 32, 'multipv': 1, 'score': 105}, {'depth': 32, 'multipv': 3, 'score': 92}, {'depth': 32, 'multipv': 5, 'score': 92}]\n"
     ]
    }
   ],
   "source": [
    "for depth, multipv in itertools.product(depths, multipvs):\n",
    "    print(f\"Running depth {depth} with multipv {multipv}\")\n",
    "    info = engine.analyse(chess.Board(sample_fen), chess.engine.Limit(depth=depth), multipv=multipv)\n",
    "    \n",
    "    score = info[0][\"score\"].white().score()\n",
    "    results.append({\n",
    "        \"depth\": depth,\n",
    "        \"multipv\": multipv,\n",
    "        \"score\": score,\n",
    "    })\n",
    "    \n",
    "engine.quit()\n",
    "with open(\"data/sensitivity.csv\", \"w\") as f:\n",
    "    csv.DictWriter(f, fieldnames=[\"depth\", \"multipv\", \"score\"]).writeheader()\n",
    "    csv.DictWriter(f, fieldnames=[\"depth\", \"multipv\", \"score\"]).writerows(results)\n",
    "    \n",
    "print(results)"
   ]
  },
  {
   "cell_type": "code",
   "execution_count": null,
   "id": "98dd7b85",
   "metadata": {},
   "outputs": [],
   "source": []
  }
 ],
 "metadata": {
  "kernelspec": {
   "display_name": "Python (safechess)",
   "language": "python",
   "name": "safechess"
  },
  "language_info": {
   "codemirror_mode": {
    "name": "ipython",
    "version": 3
   },
   "file_extension": ".py",
   "mimetype": "text/x-python",
   "name": "python",
   "nbconvert_exporter": "python",
   "pygments_lexer": "ipython3",
   "version": "3.12.10"
  }
 },
 "nbformat": 4,
 "nbformat_minor": 5
}
