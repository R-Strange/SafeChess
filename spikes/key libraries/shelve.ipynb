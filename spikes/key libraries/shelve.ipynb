{
 "cells": [
  {
   "cell_type": "markdown",
   "id": "5b58fdbd",
   "metadata": {},
   "source": [
    "# Shelve\n",
    "\n",
    "## 1. Introduction\n",
    "The built-in shelve module provides a simple, persistent, dictionary-like object: you can store and retrieve Python objects by key and have them backed to disk automatically. Underneath it uses `dbm` and `pickle`, so any pickleable object can be saved with minimal boilerplate.\n",
    "\n",
    "Use cases in SafeChess:\n",
    "\n",
    "* Cache engine results by (`fen`, `depth`, `multipv`) keys\n",
    "* Persist small lookup tables or thresholds between runs\n",
    "* Quick prototyping of on-disk storage without a full database\n",
    "\n",
    "## 2. Paradigm & Key Objects\n",
    "\n",
    "|Concept|\tDescription|\n",
    "|---|---|\n",
    "|Shelf|\tThe main object: works like a `dict` but persists to a file.|\n",
    "|Keys|\tMust be strings (as DBM keys are byte strings under the hood).|\n",
    "|Values|\tAny pickleable Python object (lists, dicts, custom classes).|\n",
    "|`writeback`|\tIf `True`, caches all accessed entries in memory and writes back on close—useful for mutating nested structures, but memory-hungry.|\n",
    "|`sync()`|\tFlush the in-memory cache to disk without closing.|\n",
    "|Underlying dbm|\tBacked by any supported DBM implementation (`dbm.gnu`, `dbm.ndbm`, etc.).|\n",
    "\n",
    "```python\n",
    "import shelve\n",
    "```\n",
    "`open` → returns a shelf object\n",
    "\n",
    "`shelf[key]` = value → stores (pickles) value\n",
    "\n",
    "`value = shelf[key]` → loads (unpickles) value\n",
    "\n",
    "`del shelf[key]` → removes entry\n",
    "\n",
    "`shelf.close()` → flushes and closes the file\n",
    "\n",
    "## 3. Key Functionality\n",
    "\n",
    "### Opening a Shelf"
   ]
  },
  {
   "cell_type": "code",
   "execution_count": 1,
   "id": "34b593cf",
   "metadata": {},
   "outputs": [],
   "source": [
    "import shelve\n",
    "\n",
    "# Open (and create if missing) a shelf file named \"cache.db\"\n",
    "# flag=\"c\": create if needed; flag=\"r\": read-only; flag=\"n\": new; flag=\"w\": read/write\n",
    "shelf = shelve.open(\"cache.db\", flag=\"c\", writeback=False)"
   ]
  },
  {
   "cell_type": "markdown",
   "id": "b9602c43",
   "metadata": {},
   "source": [
    "### Basic Operations"
   ]
  },
  {
   "cell_type": "code",
   "execution_count": 2,
   "id": "3e4dc4ee",
   "metadata": {},
   "outputs": [
    {
     "name": "stdout",
     "output_type": "stream",
     "text": [
      "123\n",
      "Found it!\n"
     ]
    }
   ],
   "source": [
    "# Store a value\n",
    "shelf[\"foo\"] = {\"bar\": 123, \"baz\": [1,2,3]}\n",
    "\n",
    "# Retrieve a value\n",
    "data = shelf[\"foo\"]\n",
    "print(data[\"bar\"])  # 123\n",
    "\n",
    "# Check for a key\n",
    "if \"foo\" in shelf:\n",
    "    print(\"Found it!\")\n",
    "\n",
    "# Delete a key\n",
    "del shelf[\"foo\"]\n"
   ]
  },
  {
   "cell_type": "markdown",
   "id": "83402ec1",
   "metadata": {},
   "source": [
    "### Iteration and Listing"
   ]
  },
  {
   "cell_type": "code",
   "execution_count": 3,
   "id": "e4b0a2a5",
   "metadata": {},
   "outputs": [],
   "source": [
    "# Keys, values, items just like a dict\n",
    "for key in shelf:\n",
    "    print(key)\n",
    "\n",
    "for key, value in shelf.items():\n",
    "    print(key, \"→\", value)\n"
   ]
  },
  {
   "cell_type": "markdown",
   "id": "792a5938",
   "metadata": {},
   "source": [
    "### `writeback` and `sync`"
   ]
  },
  {
   "cell_type": "code",
   "execution_count": 4,
   "id": "0015c8d8",
   "metadata": {},
   "outputs": [],
   "source": [
    "# If you need to mutate a nested object in place:\n",
    "shelf = shelve.open(\"cache.db\", writeback=True)\n",
    "shelf[\"nested\"] = {\"counter\": 0}\n",
    "\n",
    "# Mutate the stored dict directly\n",
    "shelf[\"nested\"][\"counter\"] += 1\n",
    "\n",
    "# Force write to disk now\n",
    "shelf.sync()\n",
    "\n",
    "# At the end\n",
    "shelf.close()\n"
   ]
  },
  {
   "cell_type": "markdown",
   "id": "08764895",
   "metadata": {},
   "source": [
    "Warning: `writeback=True` keeps all accessed items in RAM until close or sync; avoid for large datasets."
   ]
  },
  {
   "cell_type": "markdown",
   "id": "0490573e",
   "metadata": {},
   "source": [
    "### Closing the Shelf\n",
    "Always close to make sure that data is flushed. We can also use a context manager pattern."
   ]
  },
  {
   "cell_type": "code",
   "execution_count": 5,
   "id": "e9829d98",
   "metadata": {},
   "outputs": [],
   "source": [
    "shelf = shelve.open(\"cache.db\", writeback=True)\n",
    "shelf.close()"
   ]
  },
  {
   "cell_type": "code",
   "execution_count": 6,
   "id": "81c0336a",
   "metadata": {},
   "outputs": [],
   "source": [
    "with shelve.open(\"cache.db\", writeback=True) as shelf:\n",
    "    # Do something with the shelf\n",
    "    pass  # No need to call close() explicitly"
   ]
  },
  {
   "cell_type": "markdown",
   "id": "3eb94474",
   "metadata": {},
   "source": [
    "## 4. Gotchas\n",
    "* String-only keys: non-string keys will be coerced or error.\n",
    "* Pickle security: don’t open untrusted shelves (they can execute arbitrary code when unpickled).\n",
    "* Concurrent writes: DBM backends often don’t support multiple writers; avoid simultaneous writes or use a lock.\n",
    "* Performance: good for small-to-medium datasets; large volumes might warrant SQLite or a proper key-value store."
   ]
  }
 ],
 "metadata": {
  "kernelspec": {
   "display_name": "Python (safechess)",
   "language": "python",
   "name": "safechess"
  },
  "language_info": {
   "codemirror_mode": {
    "name": "ipython",
    "version": 3
   },
   "file_extension": ".py",
   "mimetype": "text/x-python",
   "name": "python",
   "nbconvert_exporter": "python",
   "pygments_lexer": "ipython3",
   "version": "3.12.10"
  }
 },
 "nbformat": 4,
 "nbformat_minor": 5
}
