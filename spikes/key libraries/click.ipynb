{
 "cells": [
  {
   "cell_type": "markdown",
   "id": "6121bae7",
   "metadata": {},
   "source": [
    "# `click`\n",
    "\n",
    "## 1. Introduction\n",
    "Click is a Python package for creating beautiful, composable command-line interfaces with minimal boilerplate. It uses decorators to define commands, options, and arguments, and handles:\n",
    "\n",
    "* Parsing and validation\n",
    "* Automatic --help generation\n",
    "* Rich types (files, paths, choices)\n",
    "* Nested subcommands via groups\n",
    "* Prompting, confirmation, and progress bars\n",
    "\n",
    "In SafeChess, we use Click to build our safechess analyze CLI.\n",
    "\n",
    "## 2. Paradigm & Key Objects\n",
    "\n",
    "|Concept|\tWhat It Does|\n",
    "|---|---|\n",
    "|`@click.command()`|\tMarks a function as a standalone CLI command|\n",
    "|`@click.group()`\t|Defines a command group (for subcommands)|\n",
    "|`@click.option()`|\tDeclares a flag or option (`--depth 12`)|\n",
    "|`@click.argument()`|\tDeclares a positional argument (`input.pgn`)|\n",
    "|Built-in types|\t`click.Path`, `click.File`, `click.Choice`, etc.|\n",
    "|Output & I/O|\t`click.echo()`, `click.secho()`|\n",
    "|Context|\t`click.Context` for shared state across commands|\n",
    "|Error handling|\t`click.BadParameter`, `click.UsageError`, `click.Abort`|\n",
    "\n",
    "All decorators modify your function signature so that when you call the script, Click handles parsing and passes validated values into your function.\n",
    "\n",
    "## 3. Key Functionality\n",
    "\n",
    "### Installation\n",
    "\n",
    "```bash\n",
    "pip install click\n",
    "```\n",
    "\n",
    "### Simple Command"
   ]
  },
  {
   "cell_type": "code",
   "execution_count": null,
   "id": "08c33520",
   "metadata": {},
   "outputs": [],
   "source": [
    "import click\n",
    "\n",
    "@click.command()                     # 1. Declare this function as a CLI\n",
    "@click.option(\"--count\", \"-c\",\n",
    "              default=1,\n",
    "              help=\"Number of greetings\")\n",
    "@click.argument(\"name\")              # 2. One positional argument\n",
    "def greet(count, name):\n",
    "    \"\"\"Print HELLO <name> COUNT times.\"\"\"\n",
    "    for _ in range(count):\n",
    "        click.echo(f\"Hello, {name}!\")\n",
    "\n",
    "if __name__ == \"__main__\":\n",
    "    greet()                          # 3. Entry point\n"
   ]
  },
  {
   "cell_type": "markdown",
   "id": "7846640b",
   "metadata": {},
   "source": [
    "Run: python greet.py Alice → prints Hello, Alice!\n",
    "\n",
    "--help auto-generated: python greet.py --help\n",
    "\n",
    "### Options vs Arguments\n",
    "\n",
    "* Options start with `-`/`--`, can be required/optional, have types, defaults, and help texts.\n",
    "* Arguments are positional, required by default, and validated by `Click` types."
   ]
  },
  {
   "cell_type": "code",
   "execution_count": null,
   "id": "ab858c85",
   "metadata": {},
   "outputs": [],
   "source": [
    "@click.option(\"--depth\", type=int, default=12, help=\"Search depth\")\n",
    "@click.argument(\"pgn\", type=click.Path(exists=True))"
   ]
  },
  {
   "cell_type": "markdown",
   "id": "d1dbb54e",
   "metadata": {},
   "source": [
    "### File and Path type"
   ]
  },
  {
   "cell_type": "code",
   "execution_count": null,
   "id": "3dae5783",
   "metadata": {},
   "outputs": [],
   "source": [
    "@click.option(\"--output\", \n",
    "              type=click.File(\"w\"),   # open for writing\n",
    "              default=\"results.json\")\n",
    "def save(output):\n",
    "    output.write('{\"ok\":true}')"
   ]
  },
  {
   "cell_type": "markdown",
   "id": "7c8732a2",
   "metadata": {},
   "source": [
    "* `click.Path(exists=True)` -> ensures the given path exists (or not, if exists=False).\n",
    "* `click.File(\"r\"/\"w\")` -> opens the file for you, passes the file object.\n",
    "\n",
    "### Command groups and subcommands"
   ]
  },
  {
   "cell_type": "code",
   "execution_count": null,
   "id": "40c06c02",
   "metadata": {},
   "outputs": [],
   "source": [
    "@click.group()        # root group\n",
    "def cli():\n",
    "    \"\"\"SafeChess CLI.\"\"\"\n",
    "\n",
    "@cli.command()        # subcommand: analyze\n",
    "@click.option(\"--depth\", type=int, default=15)\n",
    "@click.argument(\"pgn\", type=click.Path(exists=True))\n",
    "def analyze(depth, pgn):\n",
    "    \"\"\"Analyze a PGN file.\"\"\"\n",
    "    click.echo(f\"Analyzing {pgn} at depth {depth}\")\n",
    "\n",
    "@cli.command()        # another subcommand: export\n",
    "@click.argument(\"db\", type=click.Path(exists=True))\n",
    "def export(db):\n",
    "    \"\"\"Export results from DB.\"\"\"\n",
    "    click.echo(f\"Exporting from {db}\")\n",
    "\n",
    "if __name__ == \"__main__\":\n",
    "    cli()"
   ]
  },
  {
   "cell_type": "markdown",
   "id": "9e79581b",
   "metadata": {},
   "source": [
    "Usage examples:\n",
    "```bash\n",
    "safechess analyze games.pgn\n",
    "\n",
    "safechess export results.db\n",
    "```\n",
    "\n",
    "### Prompting and Confirmation"
   ]
  },
  {
   "cell_type": "code",
   "execution_count": null,
   "id": "4774f2fe",
   "metadata": {},
   "outputs": [],
   "source": [
    "@click.command()\n",
    "@click.option(\"--force\", is_flag=True,\n",
    "              help=\"Skip confirmation\")\n",
    "def delete(force):\n",
    "    if not force:\n",
    "        click.confirm(\"Really delete all data?\", abort=True)\n",
    "    click.echo(\"Deleted!\")"
   ]
  },
  {
   "cell_type": "markdown",
   "id": "cc2032e2",
   "metadata": {},
   "source": [
    "`click.confirm(..., abort=True)` -> exits with an error if user says “no”.\n",
    "\n",
    "### Custom Validation and Errors"
   ]
  },
  {
   "cell_type": "code",
   "execution_count": null,
   "id": "7b64d44a",
   "metadata": {},
   "outputs": [],
   "source": [
    "@click.command()\n",
    "@click.option(\"--rate\", type=float)\n",
    "def set_rate(rate):\n",
    "    if rate <= 0 or rate > 1:\n",
    "        raise click.BadParameter(\"rate must be between 0 and 1\")\n",
    "    click.echo(f\"Rate set to {rate}\")"
   ]
  },
  {
   "cell_type": "markdown",
   "id": "a1b641b4",
   "metadata": {},
   "source": [
    "Raising `BadParameter` shows the option’s usage and your message.\n",
    "\n",
    "### Testing with CLIRunner"
   ]
  },
  {
   "cell_type": "code",
   "execution_count": null,
   "id": "168be32f",
   "metadata": {},
   "outputs": [],
   "source": [
    "from click.testing import CliRunner\n",
    "from mycli import analyze\n",
    "\n",
    "def test_analyze_minimal(tmp_path):\n",
    "    pgn = tmp_path / \"g.pgn\"\n",
    "    pgn.write_text(\"1. e4 e5\")\n",
    "    runner = CliRunner()\n",
    "    result = runner.invoke(analyze, [\"--depth\", \"5\", str(pgn)])\n",
    "    assert result.exit_code == 0\n",
    "    assert \"Analyzing\" in result.output"
   ]
  },
  {
   "cell_type": "markdown",
   "id": "3c1fbe4f",
   "metadata": {},
   "source": [
    "`CliRunner().invoke()` simulates running the command and captures output & exit codes."
   ]
  }
 ],
 "metadata": {
  "kernelspec": {
   "display_name": "Python (safechess)",
   "language": "python",
   "name": "safechess"
  },
  "language_info": {
   "codemirror_mode": {
    "name": "ipython",
    "version": 3
   },
   "file_extension": ".py",
   "mimetype": "text/x-python",
   "name": "python",
   "nbconvert_exporter": "python",
   "pygments_lexer": "ipython3",
   "version": "3.12.10"
  }
 },
 "nbformat": 4,
 "nbformat_minor": 5
}
